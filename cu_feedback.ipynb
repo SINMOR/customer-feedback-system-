{
 "cells": [
  {
   "cell_type": "markdown",
   "metadata": {},
   "source": [
    "##  CUSTOMER FEEDBACK MANAGEMENT SYSTEM "
   ]
  },
  {
   "cell_type": "markdown",
   "metadata": {},
   "source": [
    "### Collecting and storing Feedback \n"
   ]
  },
  {
   "cell_type": "code",
   "execution_count": 3,
   "metadata": {},
   "outputs": [],
   "source": [
    "# import the necessary libraries \n",
    "import pandas as pd \n",
    "import csv "
   ]
  },
  {
   "cell_type": "code",
   "execution_count": 13,
   "metadata": {},
   "outputs": [],
   "source": [
    "#customer 1\n",
    "customer_name1=input(\"Enter the first customer's name \")\n",
    "customer_rating1=int(input(\"Enter the first customer's rating(1-5) \"))\n",
    "customer_feedback1=input(\"Enter the first customer's feedback \")"
   ]
  },
  {
   "cell_type": "code",
   "execution_count": 7,
   "metadata": {},
   "outputs": [],
   "source": [
    "#customer 2\n",
    "customer_name2=input(\"Enter the second customer's name \")\n",
    "customer_rating2=int(input(\"Enter the second customer's rating(1-5) \"))\n",
    "customer_feedback2=input(\"Enter the second customer's feedback \")"
   ]
  },
  {
   "cell_type": "code",
   "execution_count": 8,
   "metadata": {},
   "outputs": [],
   "source": [
    "#customer 3\n",
    "customer_name3=input(\"Enter the third customer's name \")\n",
    "customer_rating3=int(input(\"Enter the third customer's rating(1-5) \"))\n",
    "customer_feedback3=input(\"Enter the third customer's feedback \")"
   ]
  },
  {
   "cell_type": "code",
   "execution_count": 9,
   "metadata": {},
   "outputs": [],
   "source": [
    "#customer 4\n",
    "customer_name4=input(\"Enter the fourth customer's name \")\n",
    "customer_rating4=int(input(\"Enter the fourth customer's rating(1-5) \"))\n",
    "customer_feedback4=input(\"Enter the fourth customer's feedback \")"
   ]
  },
  {
   "cell_type": "code",
   "execution_count": 10,
   "metadata": {},
   "outputs": [],
   "source": [
    "#customer 5\n",
    "customer_name5=input(\"Enter the fifth customer's name \")\n",
    "customer_rating5=int(input(\"Enter the fifth customer's rating(1-5) \"))\n",
    "customer_feedback5=input(\"Enter the fifth customer's feedback \")"
   ]
  },
  {
   "cell_type": "markdown",
   "metadata": {},
   "source": [
    "### Saving the collected data to a csv file "
   ]
  },
  {
   "cell_type": "code",
   "execution_count": 15,
   "metadata": {},
   "outputs": [],
   "source": [
    "# converting and saving the collected data to a csv \n",
    "with open (\"customer_feedback.csv\",\"w\",newline=\"\") as file :\n",
    "    writer = csv.writer(file)\n",
    "    writer.writerow([\"Name\",\"Rating\",\"Feedback\"])\n",
    "    writer.writerow([customer_name1,customer_rating1,customer_feedback1])\n",
    "    writer.writerow([customer_name2,customer_rating2,customer_feedback2])\n",
    "    writer.writerow([customer_name3,customer_rating3,customer_feedback3])\n",
    "    writer.writerow([customer_name4,customer_rating4,customer_feedback4])\n",
    "    writer.writerow([customer_name5,customer_rating5,customer_feedback5])"
   ]
  },
  {
   "cell_type": "code",
   "execution_count": 16,
   "metadata": {},
   "outputs": [
    {
     "name": "stdout",
     "output_type": "stream",
     "text": [
      "             Name  Rating                             Feedback\n",
      "0  Morris Sindet        5     Exceptional, I highly recommend \n",
      "1     Chris Muia        3               average not that good \n",
      "2  Nancy Wanjiru        1            worst , I wont come back \n",
      "3  Faith Chesang        4  I liked the service will come back \n",
      "4      Andy Chow        1     Bad experience , I will sue you \n"
     ]
    }
   ],
   "source": [
    "#Reading the data from the csv and displaying \n",
    "df = pd.read_csv(\"customer_feedback.csv\")\n",
    "print(df )"
   ]
  },
  {
   "cell_type": "markdown",
   "metadata": {},
   "source": [
    "### Performing basic data analysis "
   ]
  },
  {
   "cell_type": "code",
   "execution_count": 17,
   "metadata": {},
   "outputs": [
    {
     "name": "stdout",
     "output_type": "stream",
     "text": [
      "Total Ratings:14\n",
      "Average Ratings:2.8\n"
     ]
    }
   ],
   "source": [
    "# calculating the total and average rating \n",
    "total_ratings = df[\"Rating\"].sum()\n",
    "average_ratings = total_ratings/len(df)\n",
    "print(f\"Total Ratings:{total_ratings}\")\n",
    "print(f\"Average Ratings:{average_ratings}\")\n"
   ]
  },
  {
   "cell_type": "code",
   "execution_count": 18,
   "metadata": {},
   "outputs": [],
   "source": [
    "# categorizing feedback ratings \n",
    "# customer 1 \n",
    "if customer_rating1 >= 5 :\n",
    "    feedbuck_category1 = \"Very Positive \"\n",
    "elif customer_rating1 >= 4 :\n",
    "    feedbuck_category1 = \"Positive\"\n",
    "elif customer_rating1 == 3 :\n",
    "    feedbuck_category1 = \"Neutral\"\n",
    "else:\n",
    "    feedbuck_category1 = \"Negative\"\n",
    "    "
   ]
  },
  {
   "cell_type": "code",
   "execution_count": 19,
   "metadata": {},
   "outputs": [],
   "source": [
    "# customer 2 \n",
    "if customer_rating2 >= 5 :\n",
    "    feedbuck_category2 = \"Very Positive \"\n",
    "elif customer_rating2 >= 4 :\n",
    "    feedbuck_category2 = \"Positive\"\n",
    "elif customer_rating2 == 3 :\n",
    "    feedbuck_category2 = \"Neutral\"\n",
    "else:\n",
    "    feedbuck_category2 = \"Negative\""
   ]
  },
  {
   "cell_type": "code",
   "execution_count": 20,
   "metadata": {},
   "outputs": [],
   "source": [
    "# customer 3 \n",
    "if customer_rating3 >= 5 :\n",
    "    feedbuck_category3 = \"Very Positive \"\n",
    "elif customer_rating3 >= 4 :\n",
    "    feedbuck_category3 = \"Positive\"\n",
    "elif customer_rating3 == 3 :\n",
    "    feedbuck_category3 = \"Neutral\"\n",
    "else:\n",
    "    feedbuck_category3 = \"Negative\""
   ]
  },
  {
   "cell_type": "code",
   "execution_count": 21,
   "metadata": {},
   "outputs": [],
   "source": [
    "# customer 4 \n",
    "if customer_rating4 >= 5 :\n",
    "    feedbuck_category4 = \"Very Positive \"\n",
    "elif customer_rating4 >= 4 :\n",
    "    feedbuck_category4 = \"Positive\"\n",
    "elif customer_rating4 == 3 :\n",
    "    feedbuck_category4 = \"Neutral\"\n",
    "else:\n",
    "    feedbuck_category4 = \"Negative\""
   ]
  },
  {
   "cell_type": "code",
   "execution_count": 22,
   "metadata": {},
   "outputs": [],
   "source": [
    "# customer 5 \n",
    "if customer_rating5 >= 5 :\n",
    "    feedbuck_category5 = \"Very Positive \"\n",
    "elif customer_rating5 >= 4 :\n",
    "    feedbuck_category5 = \"Positive\"\n",
    "elif customer_rating5 == 3 :\n",
    "    feedbuck_category5 = \"Neutral\"\n",
    "else:\n",
    "    feedbuck_category5 = \"Negative\""
   ]
  },
  {
   "cell_type": "code",
   "execution_count": 23,
   "metadata": {},
   "outputs": [
    {
     "name": "stdout",
     "output_type": "stream",
     "text": [
      "Feedback Categories: ['Very Positive ', 'Neutral', 'Negative', 'Positive', 'Negative']\n"
     ]
    }
   ],
   "source": [
    "# Making a list of feedback categories \n",
    "feedback_categories = [feedbuck_category1,feedbuck_category2,feedbuck_category3,feedbuck_category4,feedbuck_category5]\n",
    "print(\"Feedback Categories:\",feedback_categories)"
   ]
  },
  {
   "cell_type": "code",
   "execution_count": 24,
   "metadata": {},
   "outputs": [],
   "source": [
    "# Analyzing Feeedback  comments\n",
    "# use  the split fuction to split the string \n",
    "# use the lower function to convert to lowercase  \n",
    "feedback_words1= customer_feedback1.lower().split()\n",
    "feedback_words2= customer_feedback2.lower().split()\n",
    "feedback_words3= customer_feedback3.lower().split()\n",
    "feedback_words4= customer_feedback4.lower().split()\n",
    "feedback_words5= customer_feedback5.lower().split()"
   ]
  },
  {
   "cell_type": "code",
   "execution_count": 26,
   "metadata": {},
   "outputs": [],
   "source": [
    "# counting occurences of specific words \n",
    "# implement the count function \n",
    "word_count = \"service\"\n",
    "word_count1 = feedback_words1.count(word_count)\n",
    "word_count2 = feedback_words2.count(word_count)\n",
    "word_count3 = feedback_words3.count(word_count)\n",
    "word_count4 = feedback_words4.count(word_count)\n",
    "word_count5 = feedback_words5.count(word_count)"
   ]
  },
  {
   "cell_type": "code",
   "execution_count": 27,
   "metadata": {},
   "outputs": [
    {
     "name": "stdout",
     "output_type": "stream",
     "text": [
      "Count of service in First feedback: 0\n",
      "Count of service in Second feedback: 0\n",
      "Count of service in Third feedback: 0\n",
      "Count of service in Fourth feedback: 1\n",
      "Count of service in Fifth feedback: 0\n"
     ]
    }
   ],
   "source": [
    "print(f\"Count of {word_count} in First feedback:\",word_count1)\n",
    "print(f\"Count of {word_count} in Second feedback:\",word_count2)\n",
    "print(f\"Count of {word_count} in Third feedback:\",word_count3)\n",
    "print(f\"Count of {word_count} in Fourth feedback:\",word_count4)\n",
    "print(f\"Count of {word_count} in Fifth feedback:\",word_count5)"
   ]
  }
 ],
 "metadata": {
  "kernelspec": {
   "display_name": "base",
   "language": "python",
   "name": "python3"
  },
  "language_info": {
   "codemirror_mode": {
    "name": "ipython",
    "version": 3
   },
   "file_extension": ".py",
   "mimetype": "text/x-python",
   "name": "python",
   "nbconvert_exporter": "python",
   "pygments_lexer": "ipython3",
   "version": "3.9.13"
  }
 },
 "nbformat": 4,
 "nbformat_minor": 2
}
